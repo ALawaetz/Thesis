{
 "cells": [
  {
   "cell_type": "code",
   "execution_count": 1,
   "metadata": {},
   "outputs": [],
   "source": [
    "import os\n",
    "import pandas as pd"
   ]
  },
  {
   "cell_type": "code",
   "execution_count": 10,
   "metadata": {},
   "outputs": [],
   "source": [
    "file = '/Users/andreas/Bacillus/Bioinformatics/RNAseq_jag_khpa_kre/X204SC22071444-Z01-F001/Analysis/Gene_categories/SubtiWiki_categories.txt'\n",
    "df = pd.read_csv(file, sep = '\\t', header = 0)"
   ]
  },
  {
   "cell_type": "code",
   "execution_count": 11,
   "metadata": {},
   "outputs": [],
   "source": [
    "### Make dataframe only with categories level 3\n",
    "df3 = pd.DataFrame()\n",
    "for index, row in df.iterrows():\n",
    "    catid_list = row['category_id'].split('.')\n",
    "    if len(catid_list) == 4:\n",
    "        df3 = pd.concat([df3, df[df.index == index]], ignore_index = True)"
   ]
  },
  {
   "cell_type": "code",
   "execution_count": 13,
   "metadata": {},
   "outputs": [],
   "source": [
    "### create GeneID, category dataframes to make custom orgDb GO terms for Clusterprofiler based on SubtiWiki categories\n",
    "def loc_cat_func(df, output_folder, name):\n",
    "    loc_cat = pd.DataFrame()\n",
    "    loc_cat['Category'] = df['category'].tolist()\n",
    "    loc_cat['GeneID'] = df['locus'].tolist()\n",
    "    loc_cat.to_csv(os.path.join(output_folder, name), sep = ',', header = True, index = False)\n",
    "\n",
    "output_folder = '/Users/andreas/Bacillus/Bioinformatics/RNAseq_jag_khpa_kre/X204SC22071444-Z01-F001/Analysis/Gene_categories'\n",
    "loc_cat_func(df, output_folder, 'GeneID_Category_All.csv')\n",
    "loc_cat_func(df3, output_folder, 'GeneID_Category_level3.csv')\n"
   ]
  },
  {
   "cell_type": "code",
   "execution_count": null,
   "metadata": {},
   "outputs": [],
   "source": []
  }
 ],
 "metadata": {
  "kernelspec": {
   "display_name": "base",
   "language": "python",
   "name": "python3"
  },
  "language_info": {
   "codemirror_mode": {
    "name": "ipython",
    "version": 3
   },
   "file_extension": ".py",
   "mimetype": "text/x-python",
   "name": "python",
   "nbconvert_exporter": "python",
   "pygments_lexer": "ipython3",
   "version": "3.9.17"
  }
 },
 "nbformat": 4,
 "nbformat_minor": 2
}

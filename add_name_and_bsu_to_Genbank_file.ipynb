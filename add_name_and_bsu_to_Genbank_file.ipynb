{
 "cells": [
  {
   "cell_type": "code",
   "execution_count": 3,
   "metadata": {},
   "outputs": [],
   "source": [
    "import os\n",
    "import pandas as pd\n",
    "import gff3"
   ]
  },
  {
   "cell_type": "code",
   "execution_count": 4,
   "metadata": {},
   "outputs": [],
   "source": [
    "file = '/Users/andreas/Bacillus/Bioinformatics/RNAseq_jag_khpa_kre/X204SC22071444-Z01-F001/Analysis/Annotation_files/B_subtilis_GenBank.gff3'\n",
    "genbank = pd.read_csv(file, sep = '\\t', names = gff3.header, comment = '#')"
   ]
  },
  {
   "cell_type": "code",
   "execution_count": 6,
   "metadata": {},
   "outputs": [],
   "source": [
    "names = []\n",
    "locus = []\n",
    "for attribute in genbank['attributes'].tolist():\n",
    "    alist = attribute.split(';')\n",
    "    n = 0\n",
    "    l = 0\n",
    "    for a in alist:\n",
    "        if a.find('Name=') == 0:\n",
    "            names.append(a[5:])\n",
    "            n += 1\n",
    "            break\n",
    "    if n == 0:\n",
    "        names.append('no_name')\n",
    "    for a in alist:\n",
    "        if a.find('locus_tag=') == 0:\n",
    "            locus.append(a[10:])\n",
    "            l += 1\n",
    "            break\n",
    "    if l == 0:\n",
    "        locus.append('no_locusTag')\n",
    "\n",
    "genbank['name'] = names\n",
    "genbank['locusTag'] = locus\n",
    "\n",
    "genbank.to_csv('/Users/andreas/Bacillus/Bioinformatics/RNAseq_jag_khpa_kre/X204SC22071444-Z01-F001/Analysis/Annotation_files/B_subtilis_GenBank_w_name_and_locus.gff3', sep = '\\t', header = True, index = False)\n",
    "    "
   ]
  },
  {
   "cell_type": "code",
   "execution_count": null,
   "metadata": {},
   "outputs": [],
   "source": []
  }
 ],
 "metadata": {
  "kernelspec": {
   "display_name": "base",
   "language": "python",
   "name": "python3"
  },
  "language_info": {
   "codemirror_mode": {
    "name": "ipython",
    "version": 3
   },
   "file_extension": ".py",
   "mimetype": "text/x-python",
   "name": "python",
   "nbconvert_exporter": "python",
   "pygments_lexer": "ipython3",
   "version": "3.9.17"
  }
 },
 "nbformat": 4,
 "nbformat_minor": 2
}

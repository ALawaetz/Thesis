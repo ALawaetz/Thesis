{
 "cells": [
  {
   "cell_type": "code",
   "execution_count": 1,
   "metadata": {},
   "outputs": [],
   "source": [
    "from Bio import SeqIO\n",
    "from Bio.Seq import Seq\n",
    "import pandas as pd\n",
    "import os\n",
    "import gff3"
   ]
  },
  {
   "cell_type": "code",
   "execution_count": 8,
   "metadata": {},
   "outputs": [],
   "source": [
    "### your fasta sequence file\n",
    "fasta_file = '/Users/andreas/Bacillus/Bioinformatics/FASTA/NC_000964v3.fasta'\n",
    "cluster_file = '/Users/andreas/Bacillus/Bioinformatics/CRAC_jag_khpA_kre_19thJune2024/Kre_CRAC_analysis/4_pyClusterReads_delsOnly/Kre_merged.novo_count_output_cDNAs.gtf_merged'\n",
    "clusters = pd.read_csv(cluster_file, sep = '\\t', names = gff3.header, comment = '#')"
   ]
  },
  {
   "cell_type": "code",
   "execution_count": 9,
   "metadata": {},
   "outputs": [],
   "source": [
    "### load fasta file\n",
    "with open(fasta_file, 'r') as f:\n",
    "    lines = f.readlines()\n",
    "    lines = lines[1:]\n",
    "    lines = [l.replace('\\n', '') for l in lines]\n",
    "    lines = ''.join(lines)\n",
    "\n",
    "### function to reverse complement genes on reverse strand\n",
    "def reverse_complement(sequence):\n",
    "    complement_dict = {'A': 'T', 'T': 'A', 'C': 'G', 'G': 'C'}\n",
    "    reverse_seq = sequence[::-1]\n",
    "    complement_seq = ''.join([complement_dict[base] for base in reverse_seq])\n",
    "    return complement_seq"
   ]
  },
  {
   "cell_type": "code",
   "execution_count": 10,
   "metadata": {},
   "outputs": [],
   "source": [
    "### make dataframe with fasta sequences for all clusters\n",
    "fasta_sequences = []\n",
    "coordinates = []\n",
    "for index, row in clusters.iterrows():\n",
    "    if row['strand'] == '+':\n",
    "        fasta_sequences.append(lines[row['start'] - 1:row['end']])\n",
    "    else:\n",
    "        fasta_sequences.append(reverse_complement(lines[row['start'] - 1:row['end']]))\n",
    "    coordinates.append(f\"{row['start']}_{row['end']}_{row['strand']}\")\n",
    "\n",
    "file_name = '/Users/andreas/Bacillus/Bioinformatics/CRAC_jag_khpA_kre_19thJune2024/kre_ALL_dels_clusters_fasta.txt'\n",
    "with open(file_name, 'w') as f:\n",
    "    for coord, seq in zip(coordinates, fasta_sequences):\n",
    "            f.write(f\">{coord}\\n\")\n",
    "            f.write(f\"{seq}\\n\")"
   ]
  },
  {
   "cell_type": "code",
   "execution_count": 14,
   "metadata": {},
   "outputs": [],
   "source": [
    "### Trim fasta sequnces to retain only middle 50 bp\n",
    "def trim_fasta_middle(input_filename, output_filename):\n",
    "    def get_middle_50bp(sequence):\n",
    "        length = len(sequence)\n",
    "        if length <= 50:\n",
    "            return sequence\n",
    "        start = (length - 50) // 2\n",
    "        return sequence[start:start + 50]\n",
    "\n",
    "    with open(input_filename, 'r') as infile, open(output_filename, 'w') as outfile:\n",
    "        sequence_id = ''\n",
    "        sequence = ''\n",
    "        for line in infile:\n",
    "            if line.startswith('>'):\n",
    "                if sequence:\n",
    "                    trimmed_sequence = get_middle_50bp(sequence)\n",
    "                    outfile.write(f'{sequence_id}\\n{trimmed_sequence}\\n')\n",
    "                sequence_id = line.strip()\n",
    "                sequence = ''\n",
    "            else:\n",
    "                sequence += line.strip()\n",
    "        # Write the last sequence\n",
    "        if sequence:\n",
    "            trimmed_sequence = get_middle_50bp(sequence)\n",
    "            outfile.write(f'{sequence_id}\\n{trimmed_sequence}\\n')\n",
    "\n",
    "# Example usage\n",
    "input_filename = '/Users/andreas/Bacillus/Bioinformatics/CRAC_jag_khpA_kre_19thJune2024/khpA_ALL_dels_clusters_fasta.txt'\n",
    "output_filename = '/Users/andreas/Bacillus/Bioinformatics/CRAC_jag_khpA_kre_19thJune2024/khpA_ALL_dels_clusters_fasta_trimmed50.txt'\n",
    "\n",
    "trim_fasta_middle(input_filename, output_filename)\n"
   ]
  },
  {
   "cell_type": "code",
   "execution_count": null,
   "metadata": {},
   "outputs": [],
   "source": []
  }
 ],
 "metadata": {
  "kernelspec": {
   "display_name": "base",
   "language": "python",
   "name": "python3"
  },
  "language_info": {
   "codemirror_mode": {
    "name": "ipython",
    "version": 3
   },
   "file_extension": ".py",
   "mimetype": "text/x-python",
   "name": "python",
   "nbconvert_exporter": "python",
   "pygments_lexer": "ipython3",
   "version": "3.9.17"
  }
 },
 "nbformat": 4,
 "nbformat_minor": 2
}

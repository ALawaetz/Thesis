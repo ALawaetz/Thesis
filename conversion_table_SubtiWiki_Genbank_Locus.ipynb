{
 "cells": [
  {
   "cell_type": "code",
   "execution_count": 4,
   "metadata": {},
   "outputs": [],
   "source": [
    "import os\n",
    "import pandas as pd\n",
    "import gff3"
   ]
  },
  {
   "cell_type": "code",
   "execution_count": 51,
   "metadata": {},
   "outputs": [],
   "source": [
    "subti_file = '/Users/andreas/Bacillus/Bioinformatics/Scripts_RNAseq/subtiwiki.gene.export.2024-05-25.tsv'\n",
    "subti = pd.read_csv(subti_file, sep = '\\t', header = 0)\n",
    "\n",
    "genbank_file = '/Users/andreas/Bacillus/Bioinformatics/RNAseq_jag_khpa_kre/X204SC22071444-Z01-F001/Analysis/Annotation_files/B_subtilis_GenBank_w_name_and_locus.gff3'\n",
    "genbank = pd.read_csv(genbank_file, sep = '\\t', header = 0)\n",
    "genbank = genbank.drop_duplicates(['locusTag'], keep = 'last')\n",
    "\n",
    "gene_cat_file = '/Users/andreas/Bacillus/Bioinformatics/RNAseq_jag_khpa_kre/X204SC22071444-Z01-F001/Analysis/Gene_categories/GeneID_Category_All.csv'\n",
    "gene_categories = pd.read_csv(gene_cat_file, sep = ',', header = 0)\n",
    "\n",
    "all_loci = list(set(subti['locus'].tolist() + genbank['locusTag'].tolist()))\n",
    "\n",
    "subti_names = []\n",
    "subti_alias = []\n",
    "genbank_names = []\n",
    "categories = []\n",
    "for locus in all_loci:\n",
    "    try:\n",
    "        subti_names.append(subti['title'][subti['locus'] == locus].iloc[0])\n",
    "    except:\n",
    "        subti_names.append('na')\n",
    "    try:\n",
    "        subti_alias.append(subti['synonyms'][subti['locus'] == locus].iloc[0])\n",
    "    except:\n",
    "        subti_alias.append('na')\n",
    "    try:\n",
    "        genbank_names.append(genbank['name'][genbank['locusTag'] == locus].iloc[0])\n",
    "    except:\n",
    "        genbank_names.append('na')\n",
    "    if len(gene_categories['Category'][gene_categories['GeneID'] == locus].tolist()) != 0:\n",
    "        categories.append(', '.join(gene_categories['Category'][gene_categories['GeneID'] == locus].tolist()))\n",
    "    else:\n",
    "        categories.append('na')\n",
    "\n",
    "\n",
    "conversion_df = pd.DataFrame()\n",
    "conversion_df['locus'] = all_loci\n",
    "conversion_df['Subti_name'] = subti_names\n",
    "conversion_df['Subti_alias'] = subti_alias\n",
    "conversion_df['GenBank_name'] = genbank_names\n",
    "conversion_df['Gene_categories'] = categories\n",
    "\n",
    "# Replace all NaN values with the string 'na'\n",
    "conversion_df.fillna('na', inplace=True)\n",
    "\n",
    "output_folder = '/Users/andreas/Bacillus/Bioinformatics/RNAseq_jag_khpa_kre/X204SC22071444-Z01-F001/Analysis/Gene_categories'\n",
    "conversion_df.to_csv(os.path.join(output_folder, 'Subti_Genbank_GO_conversion_table.txt'), sep = '\\t', header = True, index = False)\n"
   ]
  },
  {
   "cell_type": "code",
   "execution_count": 52,
   "metadata": {},
   "outputs": [
    {
     "data": {
      "text/html": [
       "<div>\n",
       "<style scoped>\n",
       "    .dataframe tbody tr th:only-of-type {\n",
       "        vertical-align: middle;\n",
       "    }\n",
       "\n",
       "    .dataframe tbody tr th {\n",
       "        vertical-align: top;\n",
       "    }\n",
       "\n",
       "    .dataframe thead th {\n",
       "        text-align: right;\n",
       "    }\n",
       "</style>\n",
       "<table border=\"1\" class=\"dataframe\">\n",
       "  <thead>\n",
       "    <tr style=\"text-align: right;\">\n",
       "      <th></th>\n",
       "      <th>locus</th>\n",
       "      <th>Subti_name</th>\n",
       "      <th>Subti_alias</th>\n",
       "      <th>GenBank_name</th>\n",
       "      <th>Gene_categories</th>\n",
       "    </tr>\n",
       "  </thead>\n",
       "  <tbody>\n",
       "    <tr>\n",
       "      <th>5588</th>\n",
       "      <td>BSU_34399</td>\n",
       "      <td>BSU_34399</td>\n",
       "      <td>na</td>\n",
       "      <td>YP_009514003.1</td>\n",
       "      <td>na</td>\n",
       "    </tr>\n",
       "  </tbody>\n",
       "</table>\n",
       "</div>"
      ],
      "text/plain": [
       "          locus Subti_name Subti_alias    GenBank_name Gene_categories\n",
       "5588  BSU_34399  BSU_34399          na  YP_009514003.1              na"
      ]
     },
     "execution_count": 52,
     "metadata": {},
     "output_type": "execute_result"
    }
   ],
   "source": [
    "conversion_df[conversion_df['locus'] == 'BSU_34399']"
   ]
  },
  {
   "cell_type": "code",
   "execution_count": null,
   "metadata": {},
   "outputs": [],
   "source": []
  }
 ],
 "metadata": {
  "kernelspec": {
   "display_name": "base",
   "language": "python",
   "name": "python3"
  },
  "language_info": {
   "codemirror_mode": {
    "name": "ipython",
    "version": 3
   },
   "file_extension": ".py",
   "mimetype": "text/x-python",
   "name": "python",
   "nbconvert_exporter": "python",
   "pygments_lexer": "ipython3",
   "version": "3.9.17"
  }
 },
 "nbformat": 4,
 "nbformat_minor": 2
}
